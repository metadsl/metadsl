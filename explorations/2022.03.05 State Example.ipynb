{
 "cells": [
  {
   "cell_type": "code",
   "execution_count": 1,
   "id": "0226aabc",
   "metadata": {},
   "outputs": [],
   "source": [
    "from __future__ import annotations\n",
    "from typing import Union, TypeVar\n",
    "from metadsl_all import *"
   ]
  },
  {
   "cell_type": "markdown",
   "id": "fba582ab-b53b-4c69-aea8-4ea2f3e2d250",
   "metadata": {},
   "source": [
    "```python\n",
    "if cond:\n",
    "    a = b\n",
    "    c = d\n",
    "else:\n",
    "    a = b + 1\n",
    "    c = d + 1\n",
    "```"
   ]
  },
  {
   "cell_type": "code",
   "execution_count": 2,
   "id": "f8ec61a0-5d41-4dcf-863d-06525ce8cd43",
   "metadata": {},
   "outputs": [],
   "source": [
    "@expression\n",
    "def init_state() -> State:\n",
    "    ..."
   ]
  },
  {
   "cell_type": "code",
   "execution_count": 3,
   "id": "a3be4117-594a-431e-8de6-ea70f062e411",
   "metadata": {},
   "outputs": [],
   "source": [
    "T = TypeVar(\"T\")\n",
    "@expression\n",
    "def if_(cond: object, true_branch: T, false_branch: T) -> T:\n",
    "    ..."
   ]
  },
  {
   "cell_type": "code",
   "execution_count": 4,
   "id": "0eb52c83-8996-4b57-93f3-7c8d9d8b9dc7",
   "metadata": {},
   "outputs": [],
   "source": [
    "@expression\n",
    "def add(x: object, y: object) -> object:\n",
    "    ..."
   ]
  },
  {
   "cell_type": "code",
   "execution_count": 5,
   "id": "5ae9ed46-e8cd-4ea5-ab76-c2ddfaa68b4d",
   "metadata": {},
   "outputs": [
    {
     "data": {
      "text/plain": [
       "{1, 2, 3, 5, 6}"
      ]
     },
     "execution_count": 5,
     "metadata": {},
     "output_type": "execute_result"
    }
   ],
   "source": [
    "state = init_state()\n",
    "\n",
    "line_2_state = state.set_var(\"a\", line(2, state.get_var(\"b\")))\n",
    "line_3_state = line_2_state.set_var(\"c\", line(3, line_2_state.get_var(\"d\")))\n",
    "\n",
    "line_5_state = state.set_var(\"a\", line(5, add(state.get_var(\"b\"), 1)))\n",
    "line_6_state = line_5_state.set_var(\"c\", line(6, line_5_state.get_var(\"d\")))\n",
    "\n",
    "state = if_(\n",
    "    line(1, state.get_var(\"cond\")),\n",
    "    line_3_state,\n",
    "    line_6_state,\n",
    ")\n",
    "res = state.namespace['a']\n",
    "get_lines(res)"
   ]
  },
  {
   "cell_type": "code",
   "execution_count": 6,
   "id": "7be05a02-aa51-49d0-8a03-606d1ea26972",
   "metadata": {
    "tags": []
   },
   "outputs": [
    {
     "data": {
      "application/x.typez+json": {
       "nodes": [
        {
         "id": "5588165156287652350",
         "repr": "1",
         "type": "int"
        },
        {
         "function": "init_state\n",
         "id": "-824938096903300058"
        },
        {
         "id": "-7587250769671343037",
         "repr": "cond",
         "type": "str"
        },
        {
         "id": "8126027657902826506",
         "repr": "a",
         "type": "str"
        },
        {
         "id": "-7875468003596548032",
         "repr": "2",
         "type": "int"
        },
        {
         "id": "903956026342425513",
         "repr": "b",
         "type": "str"
        },
        {
         "id": "-949420366002552021",
         "repr": "None",
         "type": "NoneType"
        },
        {
         "id": "-8294602091862145234",
         "repr": "c",
         "type": "str"
        },
        {
         "id": "-7059664274030091654",
         "repr": "3",
         "type": "int"
        },
        {
         "id": "1081597251926427767",
         "repr": "d",
         "type": "str"
        },
        {
         "id": "3626853550258118895",
         "repr": "5",
         "type": "int"
        },
        {
         "id": "8005759971604257497",
         "repr": "6",
         "type": "int"
        },
        {
         "args": [
          "-824938096903300058"
         ],
         "function": "State.namespace\n",
         "id": "-3932112222624709724"
        },
        {
         "args": [
          "-3932112222624709724",
          "-7587250769671343037"
         ],
         "function": "Mapping.__getitem__\n",
         "id": "-8724686457043660276",
         "type_params": {
          "K": {
           "repr": "str"
          },
          "V": {
           "repr": "typing.Any"
          }
         }
        },
        {
         "args": [
          "-3932112222624709724",
          "903956026342425513"
         ],
         "function": "Mapping.__getitem__\n",
         "id": "326844276405916152",
         "type_params": {
          "K": {
           "repr": "str"
          },
          "V": {
           "repr": "typing.Any"
          }
         }
        },
        {
         "args": [
          "5588165156287652350",
          "-8724686457043660276"
         ],
         "function": "line\n",
         "id": "-1908256844020580200"
        },
        {
         "args": [
          "-7875468003596548032",
          "326844276405916152"
         ],
         "function": "line\n",
         "id": "9075745686522343073"
        },
        {
         "args": [
          "326844276405916152",
          "5588165156287652350"
         ],
         "function": "add\n",
         "id": "-6616330445925921340"
        },
        {
         "args": [
          "-3932112222624709724",
          "8126027657902826506",
          "9075745686522343073"
         ],
         "function": "Mapping.setitem\n",
         "id": "-5853515879890038596",
         "type_params": {
          "K": {
           "repr": "str"
          },
          "V": {
           "repr": "typing.Any"
          }
         }
        },
        {
         "args": [
          "3626853550258118895",
          "-6616330445925921340"
         ],
         "function": "line\n",
         "id": "-8491401716835550191"
        },
        {
         "args": [
          "-824938096903300058",
          "-5853515879890038596",
          "-949420366002552021",
          "-949420366002552021"
         ],
         "function": "State.replace\n",
         "id": "-4348891938711064427"
        },
        {
         "args": [
          "-3932112222624709724",
          "8126027657902826506",
          "-8491401716835550191"
         ],
         "function": "Mapping.setitem\n",
         "id": "1090497124370982301",
         "type_params": {
          "K": {
           "repr": "str"
          },
          "V": {
           "repr": "typing.Any"
          }
         }
        },
        {
         "args": [
          "-4348891938711064427"
         ],
         "function": "State.namespace\n",
         "id": "8337995207690538491"
        },
        {
         "args": [
          "-824938096903300058",
          "1090497124370982301",
          "-949420366002552021",
          "-949420366002552021"
         ],
         "function": "State.replace\n",
         "id": "-8665638500035313088"
        },
        {
         "args": [
          "8337995207690538491",
          "1081597251926427767"
         ],
         "function": "Mapping.__getitem__\n",
         "id": "-7618014614610394455",
         "type_params": {
          "K": {
           "repr": "str"
          },
          "V": {
           "repr": "typing.Any"
          }
         }
        },
        {
         "args": [
          "-8665638500035313088"
         ],
         "function": "State.namespace\n",
         "id": "3411876670903121021"
        },
        {
         "args": [
          "-7059664274030091654",
          "-7618014614610394455"
         ],
         "function": "line\n",
         "id": "2429276608835151949"
        },
        {
         "args": [
          "3411876670903121021",
          "1081597251926427767"
         ],
         "function": "Mapping.__getitem__\n",
         "id": "-4400032238796462162",
         "type_params": {
          "K": {
           "repr": "str"
          },
          "V": {
           "repr": "typing.Any"
          }
         }
        },
        {
         "args": [
          "8337995207690538491",
          "-8294602091862145234",
          "2429276608835151949"
         ],
         "function": "Mapping.setitem\n",
         "id": "-6072811554282928938",
         "type_params": {
          "K": {
           "repr": "str"
          },
          "V": {
           "repr": "typing.Any"
          }
         }
        },
        {
         "args": [
          "8005759971604257497",
          "-4400032238796462162"
         ],
         "function": "line\n",
         "id": "6872130308928169945"
        },
        {
         "args": [
          "-4348891938711064427",
          "-6072811554282928938",
          "-949420366002552021",
          "-949420366002552021"
         ],
         "function": "State.replace\n",
         "id": "2060570188029139882"
        },
        {
         "args": [
          "3411876670903121021",
          "-8294602091862145234",
          "6872130308928169945"
         ],
         "function": "Mapping.setitem\n",
         "id": "-7860445692481340314",
         "type_params": {
          "K": {
           "repr": "str"
          },
          "V": {
           "repr": "typing.Any"
          }
         }
        },
        {
         "args": [
          "-8665638500035313088",
          "-7860445692481340314",
          "-949420366002552021",
          "-949420366002552021"
         ],
         "function": "State.replace\n",
         "id": "930585973211865746"
        },
        {
         "args": [
          "-1908256844020580200",
          "2060570188029139882",
          "930585973211865746"
         ],
         "function": "if_\n",
         "id": "-7403762014795248011"
        },
        {
         "args": [
          "-7403762014795248011"
         ],
         "function": "State.namespace\n",
         "id": "-3270370399846974537"
        },
        {
         "args": [
          "-3270370399846974537",
          "8126027657902826506"
         ],
         "function": "Mapping.__getitem__\n",
         "id": "5333213051195489254",
         "type_params": {
          "K": {
           "repr": "str"
          },
          "V": {
           "repr": "typing.Any"
          }
         }
        },
        {
         "args": [
          "8126027657902826506",
          "9075745686522343073"
         ],
         "function": "Pair.create\n",
         "id": "-380643203555027086"
        },
        {
         "args": [
          "-380643203555027086"
         ],
         "function": "Mapping.create\n",
         "id": "-8170308624518880092"
        },
        {
         "args": [
          "-3932112222624709724",
          "-8170308624518880092"
         ],
         "function": "Mapping.extend\n",
         "id": "-4708010344683811352",
         "type_params": {
          "K": {
           "repr": "str"
          },
          "V": {
           "repr": "typing.Any"
          }
         }
        },
        {
         "args": [
          "-824938096903300058",
          "-4708010344683811352",
          "-949420366002552021",
          "-949420366002552021"
         ],
         "function": "State.replace\n",
         "id": "1862423411160389050"
        },
        {
         "args": [
          "1862423411160389050"
         ],
         "function": "State.namespace\n",
         "id": "-8952597557994057198"
        },
        {
         "args": [
          "-8952597557994057198",
          "1081597251926427767"
         ],
         "function": "Mapping.__getitem__\n",
         "id": "5728831360743909277",
         "type_params": {
          "K": {
           "repr": "str"
          },
          "V": {
           "repr": "typing.Any"
          }
         }
        },
        {
         "args": [
          "-7059664274030091654",
          "5728831360743909277"
         ],
         "function": "line\n",
         "id": "-4966202213628058196"
        },
        {
         "args": [
          "-8952597557994057198",
          "-8294602091862145234",
          "-4966202213628058196"
         ],
         "function": "Mapping.setitem\n",
         "id": "3810101339214959469",
         "type_params": {
          "K": {
           "repr": "str"
          },
          "V": {
           "repr": "typing.Any"
          }
         }
        },
        {
         "args": [
          "1862423411160389050",
          "3810101339214959469",
          "-949420366002552021",
          "-949420366002552021"
         ],
         "function": "State.replace\n",
         "id": "8202340981437286647"
        },
        {
         "args": [
          "-1908256844020580200",
          "8202340981437286647",
          "930585973211865746"
         ],
         "function": "if_\n",
         "id": "7502750848261489194"
        },
        {
         "args": [
          "7502750848261489194"
         ],
         "function": "State.namespace\n",
         "id": "-8879008944566867823"
        },
        {
         "args": [
          "-8879008944566867823",
          "8126027657902826506"
         ],
         "function": "Mapping.__getitem__\n",
         "id": "-696905430245152862",
         "type_params": {
          "K": {
           "repr": "str"
          },
          "V": {
           "repr": "typing.Any"
          }
         }
        },
        {
         "args": [
          "8126027657902826506",
          "-8491401716835550191"
         ],
         "function": "Pair.create\n",
         "id": "9202458239787578542"
        },
        {
         "args": [
          "9202458239787578542"
         ],
         "function": "Mapping.create\n",
         "id": "7094418663202982320"
        },
        {
         "args": [
          "-3932112222624709724",
          "7094418663202982320"
         ],
         "function": "Mapping.extend\n",
         "id": "2353502455259695975",
         "type_params": {
          "K": {
           "repr": "str"
          },
          "V": {
           "repr": "typing.Any"
          }
         }
        },
        {
         "args": [
          "-824938096903300058",
          "2353502455259695975",
          "-949420366002552021",
          "-949420366002552021"
         ],
         "function": "State.replace\n",
         "id": "-9140507205252078312"
        },
        {
         "args": [
          "-9140507205252078312"
         ],
         "function": "State.namespace\n",
         "id": "-6194306036006360679"
        },
        {
         "args": [
          "-6194306036006360679",
          "1081597251926427767"
         ],
         "function": "Mapping.__getitem__\n",
         "id": "5208571420017456091",
         "type_params": {
          "K": {
           "repr": "str"
          },
          "V": {
           "repr": "typing.Any"
          }
         }
        },
        {
         "args": [
          "8005759971604257497",
          "5208571420017456091"
         ],
         "function": "line\n",
         "id": "-1261419537208834044"
        },
        {
         "args": [
          "-6194306036006360679",
          "-8294602091862145234",
          "-1261419537208834044"
         ],
         "function": "Mapping.setitem\n",
         "id": "294336722843731465",
         "type_params": {
          "K": {
           "repr": "str"
          },
          "V": {
           "repr": "typing.Any"
          }
         }
        },
        {
         "args": [
          "-9140507205252078312",
          "294336722843731465",
          "-949420366002552021",
          "-949420366002552021"
         ],
         "function": "State.replace\n",
         "id": "-2028675437626007529"
        },
        {
         "args": [
          "-1908256844020580200",
          "8202340981437286647",
          "-2028675437626007529"
         ],
         "function": "if_\n",
         "id": "2010589936494626314"
        },
        {
         "args": [
          "2010589936494626314"
         ],
         "function": "State.namespace\n",
         "id": "2765043589972106284"
        },
        {
         "args": [
          "2765043589972106284",
          "8126027657902826506"
         ],
         "function": "Mapping.__getitem__\n",
         "id": "-2726075357495045269",
         "type_params": {
          "K": {
           "repr": "str"
          },
          "V": {
           "repr": "typing.Any"
          }
         }
        },
        {
         "args": [
          "-4708010344683811352",
          "1081597251926427767"
         ],
         "function": "Mapping.__getitem__\n",
         "id": "3182309831447039217",
         "type_params": {
          "K": {
           "repr": "str"
          },
          "V": {
           "repr": "typing.Any"
          }
         }
        },
        {
         "args": [
          "-7059664274030091654",
          "3182309831447039217"
         ],
         "function": "line\n",
         "id": "8185096670264790472"
        },
        {
         "args": [
          "-4708010344683811352",
          "-8294602091862145234",
          "8185096670264790472"
         ],
         "function": "Mapping.setitem\n",
         "id": "-22281758548288929",
         "type_params": {
          "K": {
           "repr": "str"
          },
          "V": {
           "repr": "typing.Any"
          }
         }
        },
        {
         "args": [
          "1862423411160389050",
          "-22281758548288929",
          "-949420366002552021",
          "-949420366002552021"
         ],
         "function": "State.replace\n",
         "id": "5734654059730860946"
        },
        {
         "args": [
          "-1908256844020580200",
          "5734654059730860946",
          "-2028675437626007529"
         ],
         "function": "if_\n",
         "id": "7611840227327361226"
        },
        {
         "args": [
          "7611840227327361226"
         ],
         "function": "State.namespace\n",
         "id": "6318372144664508775"
        },
        {
         "args": [
          "6318372144664508775",
          "8126027657902826506"
         ],
         "function": "Mapping.__getitem__\n",
         "id": "-5101435310319099669",
         "type_params": {
          "K": {
           "repr": "str"
          },
          "V": {
           "repr": "typing.Any"
          }
         }
        },
        {
         "function": "Mapping.create\n",
         "id": "4702451177623270837"
        },
        {
         "args": [
          "-3932112222624709724",
          "4702451177623270837"
         ],
         "function": "Mapping.extend\n",
         "id": "-8772678248384834395",
         "type_params": {
          "K": {
           "repr": "str"
          },
          "V": {
           "repr": "typing.Any"
          }
         }
        },
        {
         "args": [
          "-8772678248384834395",
          "1081597251926427767"
         ],
         "function": "Mapping.__getitem__\n",
         "id": "-8178859973744575717",
         "type_params": {
          "K": {
           "repr": "str"
          },
          "V": {
           "repr": "typing.Any"
          }
         }
        },
        {
         "args": [
          "-7059664274030091654",
          "-8178859973744575717"
         ],
         "function": "line\n",
         "id": "-6835529499119124480"
        },
        {
         "args": [
          "-4708010344683811352",
          "-8294602091862145234",
          "-6835529499119124480"
         ],
         "function": "Mapping.setitem\n",
         "id": "5350653975894345649",
         "type_params": {
          "K": {
           "repr": "str"
          },
          "V": {
           "repr": "typing.Any"
          }
         }
        },
        {
         "args": [
          "1862423411160389050",
          "5350653975894345649",
          "-949420366002552021",
          "-949420366002552021"
         ],
         "function": "State.replace\n",
         "id": "-7129727616797132186"
        },
        {
         "args": [
          "-1908256844020580200",
          "-7129727616797132186",
          "-2028675437626007529"
         ],
         "function": "if_\n",
         "id": "-896511133735355109"
        },
        {
         "args": [
          "-896511133735355109"
         ],
         "function": "State.namespace\n",
         "id": "6618057590540730721"
        },
        {
         "args": [
          "6618057590540730721",
          "8126027657902826506"
         ],
         "function": "Mapping.__getitem__\n",
         "id": "3307382923597848352",
         "type_params": {
          "K": {
           "repr": "str"
          },
          "V": {
           "repr": "typing.Any"
          }
         }
        },
        {
         "args": [
          "-8294602091862145234",
          "-6835529499119124480"
         ],
         "function": "Pair.create\n",
         "id": "-7150156370520523466"
        },
        {
         "args": [
          "-7150156370520523466"
         ],
         "function": "Mapping.create\n",
         "id": "-6772500027910782309"
        },
        {
         "args": [
          "-4708010344683811352",
          "-6772500027910782309"
         ],
         "function": "Mapping.extend\n",
         "id": "4579963221379214406",
         "type_params": {
          "K": {
           "repr": "str"
          },
          "V": {
           "repr": "typing.Any"
          }
         }
        },
        {
         "args": [
          "1862423411160389050",
          "4579963221379214406",
          "-949420366002552021",
          "-949420366002552021"
         ],
         "function": "State.replace\n",
         "id": "1996666607675020076"
        },
        {
         "args": [
          "-1908256844020580200",
          "1996666607675020076",
          "-2028675437626007529"
         ],
         "function": "if_\n",
         "id": "6659631471306187651"
        },
        {
         "args": [
          "6659631471306187651"
         ],
         "function": "State.namespace\n",
         "id": "-1768277977780893858"
        },
        {
         "args": [
          "-1768277977780893858",
          "8126027657902826506"
         ],
         "function": "Mapping.__getitem__\n",
         "id": "-4853943614351324130",
         "type_params": {
          "K": {
           "repr": "str"
          },
          "V": {
           "repr": "typing.Any"
          }
         }
        },
        {
         "args": [
          "-7150156370520523466",
          "-380643203555027086"
         ],
         "function": "Mapping.create\n",
         "id": "-1650249544379989682"
        },
        {
         "args": [
          "1862423411160389050",
          "-1650249544379989682",
          "-949420366002552021",
          "-949420366002552021"
         ],
         "function": "State.replace\n",
         "id": "-4843336227821016313"
        },
        {
         "args": [
          "-1908256844020580200",
          "-4843336227821016313",
          "-2028675437626007529"
         ],
         "function": "if_\n",
         "id": "3226331927583854851"
        },
        {
         "args": [
          "3226331927583854851"
         ],
         "function": "State.namespace\n",
         "id": "-9038695690198520733"
        },
        {
         "args": [
          "-9038695690198520733",
          "8126027657902826506"
         ],
         "function": "Mapping.__getitem__\n",
         "id": "-4215640906122074557",
         "type_params": {
          "K": {
           "repr": "str"
          },
          "V": {
           "repr": "typing.Any"
          }
         }
        },
        {
         "args": [
          "-824938096903300058",
          "-1650249544379989682",
          "-949420366002552021",
          "-949420366002552021"
         ],
         "function": "State.replace\n",
         "id": "-6122379694678013431"
        },
        {
         "args": [
          "-1908256844020580200",
          "-6122379694678013431",
          "-2028675437626007529"
         ],
         "function": "if_\n",
         "id": "-6975282926587969983"
        },
        {
         "args": [
          "-6975282926587969983"
         ],
         "function": "State.namespace\n",
         "id": "6082921570534278340"
        },
        {
         "args": [
          "6082921570534278340",
          "8126027657902826506"
         ],
         "function": "Mapping.__getitem__\n",
         "id": "-7311259888263960688",
         "type_params": {
          "K": {
           "repr": "str"
          },
          "V": {
           "repr": "typing.Any"
          }
         }
        },
        {
         "args": [
          "2353502455259695975",
          "1081597251926427767"
         ],
         "function": "Mapping.__getitem__\n",
         "id": "-704838650236922393",
         "type_params": {
          "K": {
           "repr": "str"
          },
          "V": {
           "repr": "typing.Any"
          }
         }
        },
        {
         "args": [
          "8005759971604257497",
          "-704838650236922393"
         ],
         "function": "line\n",
         "id": "4688951247151779214"
        },
        {
         "args": [
          "2353502455259695975",
          "-8294602091862145234",
          "4688951247151779214"
         ],
         "function": "Mapping.setitem\n",
         "id": "-4848892601042042610",
         "type_params": {
          "K": {
           "repr": "str"
          },
          "V": {
           "repr": "typing.Any"
          }
         }
        },
        {
         "args": [
          "-9140507205252078312",
          "-4848892601042042610",
          "-949420366002552021",
          "-949420366002552021"
         ],
         "function": "State.replace\n",
         "id": "-6921699494670952973"
        },
        {
         "args": [
          "-1908256844020580200",
          "-6122379694678013431",
          "-6921699494670952973"
         ],
         "function": "if_\n",
         "id": "8149769375883844717"
        },
        {
         "args": [
          "8149769375883844717"
         ],
         "function": "State.namespace\n",
         "id": "8213913433966471928"
        },
        {
         "args": [
          "8213913433966471928",
          "8126027657902826506"
         ],
         "function": "Mapping.__getitem__\n",
         "id": "-232131396377834411",
         "type_params": {
          "K": {
           "repr": "str"
          },
          "V": {
           "repr": "typing.Any"
          }
         }
        },
        {
         "args": [
          "8005759971604257497",
          "-8178859973744575717"
         ],
         "function": "line\n",
         "id": "-3876288140693332114"
        },
        {
         "args": [
          "2353502455259695975",
          "-8294602091862145234",
          "-3876288140693332114"
         ],
         "function": "Mapping.setitem\n",
         "id": "740767012428185384",
         "type_params": {
          "K": {
           "repr": "str"
          },
          "V": {
           "repr": "typing.Any"
          }
         }
        },
        {
         "args": [
          "-9140507205252078312",
          "740767012428185384",
          "-949420366002552021",
          "-949420366002552021"
         ],
         "function": "State.replace\n",
         "id": "-3444083513857422189"
        },
        {
         "args": [
          "-1908256844020580200",
          "-6122379694678013431",
          "-3444083513857422189"
         ],
         "function": "if_\n",
         "id": "-1959017275746532084"
        },
        {
         "args": [
          "-1959017275746532084"
         ],
         "function": "State.namespace\n",
         "id": "-8025469082493841511"
        },
        {
         "args": [
          "-8025469082493841511",
          "8126027657902826506"
         ],
         "function": "Mapping.__getitem__\n",
         "id": "-1964824907221516645",
         "type_params": {
          "K": {
           "repr": "str"
          },
          "V": {
           "repr": "typing.Any"
          }
         }
        },
        {
         "args": [
          "-8294602091862145234",
          "-3876288140693332114"
         ],
         "function": "Pair.create\n",
         "id": "-4918141815853940703"
        },
        {
         "args": [
          "-4918141815853940703"
         ],
         "function": "Mapping.create\n",
         "id": "-4736047924624381469"
        },
        {
         "args": [
          "2353502455259695975",
          "-4736047924624381469"
         ],
         "function": "Mapping.extend\n",
         "id": "-940397973039052652",
         "type_params": {
          "K": {
           "repr": "str"
          },
          "V": {
           "repr": "typing.Any"
          }
         }
        },
        {
         "args": [
          "-9140507205252078312",
          "-940397973039052652",
          "-949420366002552021",
          "-949420366002552021"
         ],
         "function": "State.replace\n",
         "id": "1280896424812535309"
        },
        {
         "args": [
          "-1908256844020580200",
          "-6122379694678013431",
          "1280896424812535309"
         ],
         "function": "if_\n",
         "id": "-8745547587395338995"
        },
        {
         "args": [
          "-8745547587395338995"
         ],
         "function": "State.namespace\n",
         "id": "-4029395600375458131"
        },
        {
         "args": [
          "-4029395600375458131",
          "8126027657902826506"
         ],
         "function": "Mapping.__getitem__\n",
         "id": "-8834053962309512123",
         "type_params": {
          "K": {
           "repr": "str"
          },
          "V": {
           "repr": "typing.Any"
          }
         }
        },
        {
         "args": [
          "-4918141815853940703",
          "9202458239787578542"
         ],
         "function": "Mapping.create\n",
         "id": "-4439177644969519586"
        },
        {
         "args": [
          "-9140507205252078312",
          "-4439177644969519586",
          "-949420366002552021",
          "-949420366002552021"
         ],
         "function": "State.replace\n",
         "id": "876846187199807272"
        },
        {
         "args": [
          "-1908256844020580200",
          "-6122379694678013431",
          "876846187199807272"
         ],
         "function": "if_\n",
         "id": "-6157720810211930145"
        },
        {
         "args": [
          "-6157720810211930145"
         ],
         "function": "State.namespace\n",
         "id": "831471069294374490"
        },
        {
         "args": [
          "831471069294374490",
          "8126027657902826506"
         ],
         "function": "Mapping.__getitem__\n",
         "id": "-1153542820936625095",
         "type_params": {
          "K": {
           "repr": "str"
          },
          "V": {
           "repr": "typing.Any"
          }
         }
        },
        {
         "args": [
          "-824938096903300058",
          "-4439177644969519586",
          "-949420366002552021",
          "-949420366002552021"
         ],
         "function": "State.replace\n",
         "id": "3672652877615160204"
        },
        {
         "args": [
          "-1908256844020580200",
          "-6122379694678013431",
          "3672652877615160204"
         ],
         "function": "if_\n",
         "id": "-966027135489851019"
        },
        {
         "args": [
          "-966027135489851019"
         ],
         "function": "State.namespace\n",
         "id": "6426549145632812247"
        },
        {
         "args": [
          "6426549145632812247",
          "8126027657902826506"
         ],
         "function": "Mapping.__getitem__\n",
         "id": "3568240542435729275",
         "type_params": {
          "K": {
           "repr": "str"
          },
          "V": {
           "repr": "typing.Any"
          }
         }
        }
       ],
       "states": {
        "initial": "5333213051195489254",
        "states": [
         {
          "logs": "",
          "node": "-696905430245152862",
          "rule": "metadsl_core.mapping.mapping_extend[1]"
         },
         {
          "logs": "",
          "node": "-2726075357495045269",
          "rule": "metadsl_core.mapping.mapping_extend[1]"
         },
         {
          "logs": "",
          "node": "-5101435310319099669",
          "rule": "metadsl_core.state.state_rules[5]"
         },
         {
          "logs": "",
          "node": "3307382923597848352",
          "rule": "metadsl_core.mapping.mapping_extend[3]"
         },
         {
          "logs": "",
          "node": "-4853943614351324130",
          "rule": "metadsl_core.mapping.mapping_extend[1]"
         },
         {
          "logs": "",
          "node": "-4215640906122074557",
          "rule": "metadsl_core.mapping.mapping_extend[2]"
         },
         {
          "logs": "",
          "node": "-7311259888263960688",
          "rule": "metadsl_core.state.state_rules[4]"
         },
         {
          "logs": "",
          "node": "-232131396377834411",
          "rule": "metadsl_core.state.state_rules[5]"
         },
         {
          "logs": "",
          "node": "-1964824907221516645",
          "rule": "metadsl_core.mapping.mapping_extend[3]"
         },
         {
          "logs": "",
          "node": "-8834053962309512123",
          "rule": "metadsl_core.mapping.mapping_extend[1]"
         },
         {
          "logs": "",
          "node": "-1153542820936625095",
          "rule": "metadsl_core.mapping.mapping_extend[2]"
         },
         {
          "logs": "",
          "node": "3568240542435729275",
          "rule": "metadsl_core.state.state_rules[4]"
         },
         {
          "label": "data structures",
          "logs": "",
          "node": "3568240542435729275",
          "rule": "data structures"
         }
        ]
       }
      },
      "text/plain": [
       "Typez(definitions=None, nodes=[PrimitiveNode(id='5588165156287652350', type='int', repr='1'), CallNode(id='-824938096903300058', function='init_state\\n', type_params=None, args=None, kwargs=None), PrimitiveNode(id='-7587250769671343037', type='str', repr='cond'), PrimitiveNode(id='8126027657902826506', type='str', repr='a'), PrimitiveNode(id='-7875468003596548032', type='int', repr='2'), PrimitiveNode(id='903956026342425513', type='str', repr='b'), PrimitiveNode(id='-949420366002552021', type='NoneType', repr='None'), PrimitiveNode(id='-8294602091862145234', type='str', repr='c'), PrimitiveNode(id='-7059664274030091654', type='int', repr='3'), PrimitiveNode(id='1081597251926427767', type='str', repr='d'), PrimitiveNode(id='3626853550258118895', type='int', repr='5'), PrimitiveNode(id='8005759971604257497', type='int', repr='6'), CallNode(id='-3932112222624709724', function='State.namespace\\n', type_params=None, args=['-824938096903300058'], kwargs=None), CallNode(id='-8724686457043660276', function='Mapping.__getitem__\\n', type_params={'V': ExternalTypeInstance(repr='typing.Any'), 'K': ExternalTypeInstance(repr='str')}, args=['-3932112222624709724', '-7587250769671343037'], kwargs=None), CallNode(id='326844276405916152', function='Mapping.__getitem__\\n', type_params={'V': ExternalTypeInstance(repr='typing.Any'), 'K': ExternalTypeInstance(repr='str')}, args=['-3932112222624709724', '903956026342425513'], kwargs=None), CallNode(id='-1908256844020580200', function='line\\n', type_params=None, args=['5588165156287652350', '-8724686457043660276'], kwargs=None), CallNode(id='9075745686522343073', function='line\\n', type_params=None, args=['-7875468003596548032', '326844276405916152'], kwargs=None), CallNode(id='-6616330445925921340', function='add\\n', type_params=None, args=['326844276405916152', '5588165156287652350'], kwargs=None), CallNode(id='-5853515879890038596', function='Mapping.setitem\\n', type_params={'V': ExternalTypeInstance(repr='typing.Any'), 'K': ExternalTypeInstance(repr='str')}, args=['-3932112222624709724', '8126027657902826506', '9075745686522343073'], kwargs=None), CallNode(id='-8491401716835550191', function='line\\n', type_params=None, args=['3626853550258118895', '-6616330445925921340'], kwargs=None), CallNode(id='-4348891938711064427', function='State.replace\\n', type_params=None, args=['-824938096903300058', '-5853515879890038596', '-949420366002552021', '-949420366002552021'], kwargs=None), CallNode(id='1090497124370982301', function='Mapping.setitem\\n', type_params={'V': ExternalTypeInstance(repr='typing.Any'), 'K': ExternalTypeInstance(repr='str')}, args=['-3932112222624709724', '8126027657902826506', '-8491401716835550191'], kwargs=None), CallNode(id='8337995207690538491', function='State.namespace\\n', type_params=None, args=['-4348891938711064427'], kwargs=None), CallNode(id='-8665638500035313088', function='State.replace\\n', type_params=None, args=['-824938096903300058', '1090497124370982301', '-949420366002552021', '-949420366002552021'], kwargs=None), CallNode(id='-7618014614610394455', function='Mapping.__getitem__\\n', type_params={'V': ExternalTypeInstance(repr='typing.Any'), 'K': ExternalTypeInstance(repr='str')}, args=['8337995207690538491', '1081597251926427767'], kwargs=None), CallNode(id='3411876670903121021', function='State.namespace\\n', type_params=None, args=['-8665638500035313088'], kwargs=None), CallNode(id='2429276608835151949', function='line\\n', type_params=None, args=['-7059664274030091654', '-7618014614610394455'], kwargs=None), CallNode(id='-4400032238796462162', function='Mapping.__getitem__\\n', type_params={'V': ExternalTypeInstance(repr='typing.Any'), 'K': ExternalTypeInstance(repr='str')}, args=['3411876670903121021', '1081597251926427767'], kwargs=None), CallNode(id='-6072811554282928938', function='Mapping.setitem\\n', type_params={'V': ExternalTypeInstance(repr='typing.Any'), 'K': ExternalTypeInstance(repr='str')}, args=['8337995207690538491', '-8294602091862145234', '2429276608835151949'], kwargs=None), CallNode(id='6872130308928169945', function='line\\n', type_params=None, args=['8005759971604257497', '-4400032238796462162'], kwargs=None), CallNode(id='2060570188029139882', function='State.replace\\n', type_params=None, args=['-4348891938711064427', '-6072811554282928938', '-949420366002552021', '-949420366002552021'], kwargs=None), CallNode(id='-7860445692481340314', function='Mapping.setitem\\n', type_params={'V': ExternalTypeInstance(repr='typing.Any'), 'K': ExternalTypeInstance(repr='str')}, args=['3411876670903121021', '-8294602091862145234', '6872130308928169945'], kwargs=None), CallNode(id='930585973211865746', function='State.replace\\n', type_params=None, args=['-8665638500035313088', '-7860445692481340314', '-949420366002552021', '-949420366002552021'], kwargs=None), CallNode(id='-7403762014795248011', function='if_\\n', type_params=None, args=['-1908256844020580200', '2060570188029139882', '930585973211865746'], kwargs=None), CallNode(id='-3270370399846974537', function='State.namespace\\n', type_params=None, args=['-7403762014795248011'], kwargs=None), CallNode(id='5333213051195489254', function='Mapping.__getitem__\\n', type_params={'V': ExternalTypeInstance(repr='typing.Any'), 'K': ExternalTypeInstance(repr='str')}, args=['-3270370399846974537', '8126027657902826506'], kwargs=None), CallNode(id='-380643203555027086', function='Pair.create\\n', type_params=None, args=['8126027657902826506', '9075745686522343073'], kwargs=None), CallNode(id='-8170308624518880092', function='Mapping.create\\n', type_params=None, args=['-380643203555027086'], kwargs=None), CallNode(id='-4708010344683811352', function='Mapping.extend\\n', type_params={'V': ExternalTypeInstance(repr='typing.Any'), 'K': ExternalTypeInstance(repr='str')}, args=['-3932112222624709724', '-8170308624518880092'], kwargs=None), CallNode(id='1862423411160389050', function='State.replace\\n', type_params=None, args=['-824938096903300058', '-4708010344683811352', '-949420366002552021', '-949420366002552021'], kwargs=None), CallNode(id='-8952597557994057198', function='State.namespace\\n', type_params=None, args=['1862423411160389050'], kwargs=None), CallNode(id='5728831360743909277', function='Mapping.__getitem__\\n', type_params={'V': ExternalTypeInstance(repr='typing.Any'), 'K': ExternalTypeInstance(repr='str')}, args=['-8952597557994057198', '1081597251926427767'], kwargs=None), CallNode(id='-4966202213628058196', function='line\\n', type_params=None, args=['-7059664274030091654', '5728831360743909277'], kwargs=None), CallNode(id='3810101339214959469', function='Mapping.setitem\\n', type_params={'V': ExternalTypeInstance(repr='typing.Any'), 'K': ExternalTypeInstance(repr='str')}, args=['-8952597557994057198', '-8294602091862145234', '-4966202213628058196'], kwargs=None), CallNode(id='8202340981437286647', function='State.replace\\n', type_params=None, args=['1862423411160389050', '3810101339214959469', '-949420366002552021', '-949420366002552021'], kwargs=None), CallNode(id='7502750848261489194', function='if_\\n', type_params=None, args=['-1908256844020580200', '8202340981437286647', '930585973211865746'], kwargs=None), CallNode(id='-8879008944566867823', function='State.namespace\\n', type_params=None, args=['7502750848261489194'], kwargs=None), CallNode(id='-696905430245152862', function='Mapping.__getitem__\\n', type_params={'V': ExternalTypeInstance(repr='typing.Any'), 'K': ExternalTypeInstance(repr='str')}, args=['-8879008944566867823', '8126027657902826506'], kwargs=None), CallNode(id='9202458239787578542', function='Pair.create\\n', type_params=None, args=['8126027657902826506', '-8491401716835550191'], kwargs=None), CallNode(id='7094418663202982320', function='Mapping.create\\n', type_params=None, args=['9202458239787578542'], kwargs=None), CallNode(id='2353502455259695975', function='Mapping.extend\\n', type_params={'V': ExternalTypeInstance(repr='typing.Any'), 'K': ExternalTypeInstance(repr='str')}, args=['-3932112222624709724', '7094418663202982320'], kwargs=None), CallNode(id='-9140507205252078312', function='State.replace\\n', type_params=None, args=['-824938096903300058', '2353502455259695975', '-949420366002552021', '-949420366002552021'], kwargs=None), CallNode(id='-6194306036006360679', function='State.namespace\\n', type_params=None, args=['-9140507205252078312'], kwargs=None), CallNode(id='5208571420017456091', function='Mapping.__getitem__\\n', type_params={'V': ExternalTypeInstance(repr='typing.Any'), 'K': ExternalTypeInstance(repr='str')}, args=['-6194306036006360679', '1081597251926427767'], kwargs=None), CallNode(id='-1261419537208834044', function='line\\n', type_params=None, args=['8005759971604257497', '5208571420017456091'], kwargs=None), CallNode(id='294336722843731465', function='Mapping.setitem\\n', type_params={'V': ExternalTypeInstance(repr='typing.Any'), 'K': ExternalTypeInstance(repr='str')}, args=['-6194306036006360679', '-8294602091862145234', '-1261419537208834044'], kwargs=None), CallNode(id='-2028675437626007529', function='State.replace\\n', type_params=None, args=['-9140507205252078312', '294336722843731465', '-949420366002552021', '-949420366002552021'], kwargs=None), CallNode(id='2010589936494626314', function='if_\\n', type_params=None, args=['-1908256844020580200', '8202340981437286647', '-2028675437626007529'], kwargs=None), CallNode(id='2765043589972106284', function='State.namespace\\n', type_params=None, args=['2010589936494626314'], kwargs=None), CallNode(id='-2726075357495045269', function='Mapping.__getitem__\\n', type_params={'V': ExternalTypeInstance(repr='typing.Any'), 'K': ExternalTypeInstance(repr='str')}, args=['2765043589972106284', '8126027657902826506'], kwargs=None), CallNode(id='3182309831447039217', function='Mapping.__getitem__\\n', type_params={'V': ExternalTypeInstance(repr='typing.Any'), 'K': ExternalTypeInstance(repr='str')}, args=['-4708010344683811352', '1081597251926427767'], kwargs=None), CallNode(id='8185096670264790472', function='line\\n', type_params=None, args=['-7059664274030091654', '3182309831447039217'], kwargs=None), CallNode(id='-22281758548288929', function='Mapping.setitem\\n', type_params={'V': ExternalTypeInstance(repr='typing.Any'), 'K': ExternalTypeInstance(repr='str')}, args=['-4708010344683811352', '-8294602091862145234', '8185096670264790472'], kwargs=None), CallNode(id='5734654059730860946', function='State.replace\\n', type_params=None, args=['1862423411160389050', '-22281758548288929', '-949420366002552021', '-949420366002552021'], kwargs=None), CallNode(id='7611840227327361226', function='if_\\n', type_params=None, args=['-1908256844020580200', '5734654059730860946', '-2028675437626007529'], kwargs=None), CallNode(id='6318372144664508775', function='State.namespace\\n', type_params=None, args=['7611840227327361226'], kwargs=None), CallNode(id='-5101435310319099669', function='Mapping.__getitem__\\n', type_params={'V': ExternalTypeInstance(repr='typing.Any'), 'K': ExternalTypeInstance(repr='str')}, args=['6318372144664508775', '8126027657902826506'], kwargs=None), CallNode(id='4702451177623270837', function='Mapping.create\\n', type_params=None, args=None, kwargs=None), CallNode(id='-8772678248384834395', function='Mapping.extend\\n', type_params={'V': ExternalTypeInstance(repr='typing.Any'), 'K': ExternalTypeInstance(repr='str')}, args=['-3932112222624709724', '4702451177623270837'], kwargs=None), CallNode(id='-8178859973744575717', function='Mapping.__getitem__\\n', type_params={'V': ExternalTypeInstance(repr='typing.Any'), 'K': ExternalTypeInstance(repr='str')}, args=['-8772678248384834395', '1081597251926427767'], kwargs=None), CallNode(id='-6835529499119124480', function='line\\n', type_params=None, args=['-7059664274030091654', '-8178859973744575717'], kwargs=None), CallNode(id='5350653975894345649', function='Mapping.setitem\\n', type_params={'V': ExternalTypeInstance(repr='typing.Any'), 'K': ExternalTypeInstance(repr='str')}, args=['-4708010344683811352', '-8294602091862145234', '-6835529499119124480'], kwargs=None), CallNode(id='-7129727616797132186', function='State.replace\\n', type_params=None, args=['1862423411160389050', '5350653975894345649', '-949420366002552021', '-949420366002552021'], kwargs=None), CallNode(id='-896511133735355109', function='if_\\n', type_params=None, args=['-1908256844020580200', '-7129727616797132186', '-2028675437626007529'], kwargs=None), CallNode(id='6618057590540730721', function='State.namespace\\n', type_params=None, args=['-896511133735355109'], kwargs=None), CallNode(id='3307382923597848352', function='Mapping.__getitem__\\n', type_params={'V': ExternalTypeInstance(repr='typing.Any'), 'K': ExternalTypeInstance(repr='str')}, args=['6618057590540730721', '8126027657902826506'], kwargs=None), CallNode(id='-7150156370520523466', function='Pair.create\\n', type_params=None, args=['-8294602091862145234', '-6835529499119124480'], kwargs=None), CallNode(id='-6772500027910782309', function='Mapping.create\\n', type_params=None, args=['-7150156370520523466'], kwargs=None), CallNode(id='4579963221379214406', function='Mapping.extend\\n', type_params={'V': ExternalTypeInstance(repr='typing.Any'), 'K': ExternalTypeInstance(repr='str')}, args=['-4708010344683811352', '-6772500027910782309'], kwargs=None), CallNode(id='1996666607675020076', function='State.replace\\n', type_params=None, args=['1862423411160389050', '4579963221379214406', '-949420366002552021', '-949420366002552021'], kwargs=None), CallNode(id='6659631471306187651', function='if_\\n', type_params=None, args=['-1908256844020580200', '1996666607675020076', '-2028675437626007529'], kwargs=None), CallNode(id='-1768277977780893858', function='State.namespace\\n', type_params=None, args=['6659631471306187651'], kwargs=None), CallNode(id='-4853943614351324130', function='Mapping.__getitem__\\n', type_params={'V': ExternalTypeInstance(repr='typing.Any'), 'K': ExternalTypeInstance(repr='str')}, args=['-1768277977780893858', '8126027657902826506'], kwargs=None), CallNode(id='-1650249544379989682', function='Mapping.create\\n', type_params=None, args=['-7150156370520523466', '-380643203555027086'], kwargs=None), CallNode(id='-4843336227821016313', function='State.replace\\n', type_params=None, args=['1862423411160389050', '-1650249544379989682', '-949420366002552021', '-949420366002552021'], kwargs=None), CallNode(id='3226331927583854851', function='if_\\n', type_params=None, args=['-1908256844020580200', '-4843336227821016313', '-2028675437626007529'], kwargs=None), CallNode(id='-9038695690198520733', function='State.namespace\\n', type_params=None, args=['3226331927583854851'], kwargs=None), CallNode(id='-4215640906122074557', function='Mapping.__getitem__\\n', type_params={'V': ExternalTypeInstance(repr='typing.Any'), 'K': ExternalTypeInstance(repr='str')}, args=['-9038695690198520733', '8126027657902826506'], kwargs=None), CallNode(id='-6122379694678013431', function='State.replace\\n', type_params=None, args=['-824938096903300058', '-1650249544379989682', '-949420366002552021', '-949420366002552021'], kwargs=None), CallNode(id='-6975282926587969983', function='if_\\n', type_params=None, args=['-1908256844020580200', '-6122379694678013431', '-2028675437626007529'], kwargs=None), CallNode(id='6082921570534278340', function='State.namespace\\n', type_params=None, args=['-6975282926587969983'], kwargs=None), CallNode(id='-7311259888263960688', function='Mapping.__getitem__\\n', type_params={'V': ExternalTypeInstance(repr='typing.Any'), 'K': ExternalTypeInstance(repr='str')}, args=['6082921570534278340', '8126027657902826506'], kwargs=None), CallNode(id='-704838650236922393', function='Mapping.__getitem__\\n', type_params={'V': ExternalTypeInstance(repr='typing.Any'), 'K': ExternalTypeInstance(repr='str')}, args=['2353502455259695975', '1081597251926427767'], kwargs=None), CallNode(id='4688951247151779214', function='line\\n', type_params=None, args=['8005759971604257497', '-704838650236922393'], kwargs=None), CallNode(id='-4848892601042042610', function='Mapping.setitem\\n', type_params={'V': ExternalTypeInstance(repr='typing.Any'), 'K': ExternalTypeInstance(repr='str')}, args=['2353502455259695975', '-8294602091862145234', '4688951247151779214'], kwargs=None), CallNode(id='-6921699494670952973', function='State.replace\\n', type_params=None, args=['-9140507205252078312', '-4848892601042042610', '-949420366002552021', '-949420366002552021'], kwargs=None), CallNode(id='8149769375883844717', function='if_\\n', type_params=None, args=['-1908256844020580200', '-6122379694678013431', '-6921699494670952973'], kwargs=None), CallNode(id='8213913433966471928', function='State.namespace\\n', type_params=None, args=['8149769375883844717'], kwargs=None), CallNode(id='-232131396377834411', function='Mapping.__getitem__\\n', type_params={'V': ExternalTypeInstance(repr='typing.Any'), 'K': ExternalTypeInstance(repr='str')}, args=['8213913433966471928', '8126027657902826506'], kwargs=None), CallNode(id='-3876288140693332114', function='line\\n', type_params=None, args=['8005759971604257497', '-8178859973744575717'], kwargs=None), CallNode(id='740767012428185384', function='Mapping.setitem\\n', type_params={'V': ExternalTypeInstance(repr='typing.Any'), 'K': ExternalTypeInstance(repr='str')}, args=['2353502455259695975', '-8294602091862145234', '-3876288140693332114'], kwargs=None), CallNode(id='-3444083513857422189', function='State.replace\\n', type_params=None, args=['-9140507205252078312', '740767012428185384', '-949420366002552021', '-949420366002552021'], kwargs=None), CallNode(id='-1959017275746532084', function='if_\\n', type_params=None, args=['-1908256844020580200', '-6122379694678013431', '-3444083513857422189'], kwargs=None), CallNode(id='-8025469082493841511', function='State.namespace\\n', type_params=None, args=['-1959017275746532084'], kwargs=None), CallNode(id='-1964824907221516645', function='Mapping.__getitem__\\n', type_params={'V': ExternalTypeInstance(repr='typing.Any'), 'K': ExternalTypeInstance(repr='str')}, args=['-8025469082493841511', '8126027657902826506'], kwargs=None), CallNode(id='-4918141815853940703', function='Pair.create\\n', type_params=None, args=['-8294602091862145234', '-3876288140693332114'], kwargs=None), CallNode(id='-4736047924624381469', function='Mapping.create\\n', type_params=None, args=['-4918141815853940703'], kwargs=None), CallNode(id='-940397973039052652', function='Mapping.extend\\n', type_params={'V': ExternalTypeInstance(repr='typing.Any'), 'K': ExternalTypeInstance(repr='str')}, args=['2353502455259695975', '-4736047924624381469'], kwargs=None), CallNode(id='1280896424812535309', function='State.replace\\n', type_params=None, args=['-9140507205252078312', '-940397973039052652', '-949420366002552021', '-949420366002552021'], kwargs=None), CallNode(id='-8745547587395338995', function='if_\\n', type_params=None, args=['-1908256844020580200', '-6122379694678013431', '1280896424812535309'], kwargs=None), CallNode(id='-4029395600375458131', function='State.namespace\\n', type_params=None, args=['-8745547587395338995'], kwargs=None), CallNode(id='-8834053962309512123', function='Mapping.__getitem__\\n', type_params={'V': ExternalTypeInstance(repr='typing.Any'), 'K': ExternalTypeInstance(repr='str')}, args=['-4029395600375458131', '8126027657902826506'], kwargs=None), CallNode(id='-4439177644969519586', function='Mapping.create\\n', type_params=None, args=['-4918141815853940703', '9202458239787578542'], kwargs=None), CallNode(id='876846187199807272', function='State.replace\\n', type_params=None, args=['-9140507205252078312', '-4439177644969519586', '-949420366002552021', '-949420366002552021'], kwargs=None), CallNode(id='-6157720810211930145', function='if_\\n', type_params=None, args=['-1908256844020580200', '-6122379694678013431', '876846187199807272'], kwargs=None), CallNode(id='831471069294374490', function='State.namespace\\n', type_params=None, args=['-6157720810211930145'], kwargs=None), CallNode(id='-1153542820936625095', function='Mapping.__getitem__\\n', type_params={'V': ExternalTypeInstance(repr='typing.Any'), 'K': ExternalTypeInstance(repr='str')}, args=['831471069294374490', '8126027657902826506'], kwargs=None), CallNode(id='3672652877615160204', function='State.replace\\n', type_params=None, args=['-824938096903300058', '-4439177644969519586', '-949420366002552021', '-949420366002552021'], kwargs=None), CallNode(id='-966027135489851019', function='if_\\n', type_params=None, args=['-1908256844020580200', '-6122379694678013431', '3672652877615160204'], kwargs=None), CallNode(id='6426549145632812247', function='State.namespace\\n', type_params=None, args=['-966027135489851019'], kwargs=None), CallNode(id='3568240542435729275', function='Mapping.__getitem__\\n', type_params={'V': ExternalTypeInstance(repr='typing.Any'), 'K': ExternalTypeInstance(repr='str')}, args=['6426549145632812247', '8126027657902826506'], kwargs=None)], states=States(initial='5333213051195489254', states=[State(node='-696905430245152862', rule='metadsl_core.mapping.mapping_extend[1]', logs='', label=None), State(node='-2726075357495045269', rule='metadsl_core.mapping.mapping_extend[1]', logs='', label=None), State(node='-5101435310319099669', rule='metadsl_core.state.state_rules[5]', logs='', label=None), State(node='3307382923597848352', rule='metadsl_core.mapping.mapping_extend[3]', logs='', label=None), State(node='-4853943614351324130', rule='metadsl_core.mapping.mapping_extend[1]', logs='', label=None), State(node='-4215640906122074557', rule='metadsl_core.mapping.mapping_extend[2]', logs='', label=None), State(node='-7311259888263960688', rule='metadsl_core.state.state_rules[4]', logs='', label=None), State(node='-232131396377834411', rule='metadsl_core.state.state_rules[5]', logs='', label=None), State(node='-1964824907221516645', rule='metadsl_core.mapping.mapping_extend[3]', logs='', label=None), State(node='-8834053962309512123', rule='metadsl_core.mapping.mapping_extend[1]', logs='', label=None), State(node='-1153542820936625095', rule='metadsl_core.mapping.mapping_extend[2]', logs='', label=None), State(node='3568240542435729275', rule='metadsl_core.state.state_rules[4]', logs='', label=None), State(node='3568240542435729275', rule='data structures', logs='', label='data structures')]))"
      ]
     },
     "metadata": {},
     "output_type": "display_data"
    }
   ],
   "source": [
    "res = execute(res)"
   ]
  },
  {
   "cell_type": "code",
   "execution_count": 7,
   "id": "3fd82637",
   "metadata": {},
   "outputs": [],
   "source": [
    "@register_ds\n",
    "@rule\n",
    "def if_optimizations(x: T, y: T, cond: object):\n",
    "    \n",
    "    def res():\n",
    "        if not isinstance(x, Expression) or not isinstance(y, Expression):\n",
    "            raise NoMatch()\n",
    "        if type(x) != type(y):\n",
    "            raise NoMatch()\n",
    "        if x.function != y.function:\n",
    "            raise NoMatch()\n",
    "        \n",
    "        if len(x.args) != len(y.args) or set(x.kwargs.keys()) != set(y.kwargs.keys()):\n",
    "            raise NoMatch()\n",
    "        \n",
    "        differing_arg_or_kwarg = None\n",
    "        for i in range(len(x.args)):\n",
    "            if x.args[i] == y.args[i]:\n",
    "                continue\n",
    "            if differing_arg_or_kwarg is not None:\n",
    "                raise NoMatch()\n",
    "            differing_arg_or_kwarg = i\n",
    "        for k in x.kwargs.keys():\n",
    "            if x.kwargs[k] == y.kwargs[k]:\n",
    "                continue\n",
    "            if differing_arg_or_kwarg  is not None:\n",
    "                raise NoMatch()\n",
    "            differing_arg_or_kwarg = k\n",
    "        \n",
    "        # all the same\n",
    "        if differing_arg_or_kwarg  is None:\n",
    "            return x\n",
    "        \n",
    "        return type(x)(\n",
    "            function=x.function,\n",
    "            args=[if_(cond, a, y.args[i]) if i == differing_arg_or_kwarg else a for i, a in enumerate(x.args)],\n",
    "            kwargs={k: if_(cond, v, y.kwargs[k]) if k == differing_arg_or_kwarg else v for k, v in x.kwargs.items()},\n",
    "        )\n",
    "    # if if_ is appplied to both side of the same function, with only one differing arg or kwargs, we can put it inside\n",
    "    yield if_(cond, x, y), res\n",
    "    \n",
    "    yield if_(cond, l, r)[k], if_(cond"
   ]
  },
  {
   "cell_type": "markdown",
   "id": "a8dd615f-5567-4a6d-85eb-a9650f563d30",
   "metadata": {},
   "source": [
    "How do we move the `if_` inside the `Mapping.create`? When can `if_` be moved inside?\n",
    "\n",
    "Of course we could move the getitem inside, but really we want to move the inside the create, no?\n",
    "\n",
    "It's about independence vs depencence... "
   ]
  },
  {
   "cell_type": "code",
   "execution_count": 8,
   "id": "e74f8774-21fe-4edb-9ec3-ad0f2871087e",
   "metadata": {
    "tags": []
   },
   "outputs": [
    {
     "data": {
      "application/x.typez+json": {
       "nodes": [
        {
         "id": "5588165156287652350",
         "repr": "1",
         "type": "int"
        },
        {
         "function": "init_state\n",
         "id": "-824938096903300058"
        },
        {
         "id": "-7587250769671343037",
         "repr": "cond",
         "type": "str"
        },
        {
         "id": "-8294602091862145234",
         "repr": "c",
         "type": "str"
        },
        {
         "id": "-7059664274030091654",
         "repr": "3",
         "type": "int"
        },
        {
         "function": "Mapping.create\n",
         "id": "4702451177623270837"
        },
        {
         "id": "1081597251926427767",
         "repr": "d",
         "type": "str"
        },
        {
         "id": "8126027657902826506",
         "repr": "a",
         "type": "str"
        },
        {
         "id": "-7875468003596548032",
         "repr": "2",
         "type": "int"
        },
        {
         "id": "903956026342425513",
         "repr": "b",
         "type": "str"
        },
        {
         "id": "-949420366002552021",
         "repr": "None",
         "type": "NoneType"
        },
        {
         "id": "8005759971604257497",
         "repr": "6",
         "type": "int"
        },
        {
         "id": "3626853550258118895",
         "repr": "5",
         "type": "int"
        },
        {
         "args": [
          "-824938096903300058"
         ],
         "function": "State.namespace\n",
         "id": "-3932112222624709724"
        },
        {
         "args": [
          "-3932112222624709724",
          "-7587250769671343037"
         ],
         "function": "Mapping.__getitem__\n",
         "id": "-8724686457043660276",
         "type_params": {
          "K": {
           "repr": "str"
          },
          "V": {
           "repr": "typing.Any"
          }
         }
        },
        {
         "args": [
          "-3932112222624709724",
          "4702451177623270837"
         ],
         "function": "Mapping.extend\n",
         "id": "-8772678248384834395",
         "type_params": {
          "K": {
           "repr": "str"
          },
          "V": {
           "repr": "typing.Any"
          }
         }
        },
        {
         "args": [
          "-3932112222624709724",
          "903956026342425513"
         ],
         "function": "Mapping.__getitem__\n",
         "id": "326844276405916152",
         "type_params": {
          "K": {
           "repr": "str"
          },
          "V": {
           "repr": "typing.Any"
          }
         }
        },
        {
         "args": [
          "5588165156287652350",
          "-8724686457043660276"
         ],
         "function": "line\n",
         "id": "-1908256844020580200"
        },
        {
         "args": [
          "-8772678248384834395",
          "1081597251926427767"
         ],
         "function": "Mapping.__getitem__\n",
         "id": "-8178859973744575717",
         "type_params": {
          "K": {
           "repr": "str"
          },
          "V": {
           "repr": "typing.Any"
          }
         }
        },
        {
         "args": [
          "-7875468003596548032",
          "326844276405916152"
         ],
         "function": "line\n",
         "id": "9075745686522343073"
        },
        {
         "args": [
          "326844276405916152",
          "5588165156287652350"
         ],
         "function": "add\n",
         "id": "-6616330445925921340"
        },
        {
         "args": [
          "-7059664274030091654",
          "-8178859973744575717"
         ],
         "function": "line\n",
         "id": "-6835529499119124480"
        },
        {
         "args": [
          "8005759971604257497",
          "-8178859973744575717"
         ],
         "function": "line\n",
         "id": "-3876288140693332114"
        },
        {
         "args": [
          "8126027657902826506",
          "9075745686522343073"
         ],
         "function": "Pair.create\n",
         "id": "-380643203555027086"
        },
        {
         "args": [
          "3626853550258118895",
          "-6616330445925921340"
         ],
         "function": "line\n",
         "id": "-8491401716835550191"
        },
        {
         "args": [
          "-8294602091862145234",
          "-6835529499119124480"
         ],
         "function": "Pair.create\n",
         "id": "-7150156370520523466"
        },
        {
         "args": [
          "-8294602091862145234",
          "-3876288140693332114"
         ],
         "function": "Pair.create\n",
         "id": "-4918141815853940703"
        },
        {
         "args": [
          "8126027657902826506",
          "-8491401716835550191"
         ],
         "function": "Pair.create\n",
         "id": "9202458239787578542"
        },
        {
         "args": [
          "-7150156370520523466",
          "-380643203555027086"
         ],
         "function": "Mapping.create\n",
         "id": "-1650249544379989682"
        },
        {
         "args": [
          "-4918141815853940703",
          "9202458239787578542"
         ],
         "function": "Mapping.create\n",
         "id": "-4439177644969519586"
        },
        {
         "args": [
          "-824938096903300058",
          "-1650249544379989682",
          "-949420366002552021",
          "-949420366002552021"
         ],
         "function": "State.replace\n",
         "id": "-6122379694678013431"
        },
        {
         "args": [
          "-824938096903300058",
          "-4439177644969519586",
          "-949420366002552021",
          "-949420366002552021"
         ],
         "function": "State.replace\n",
         "id": "3672652877615160204"
        },
        {
         "args": [
          "-1908256844020580200",
          "-6122379694678013431",
          "3672652877615160204"
         ],
         "function": "if_\n",
         "id": "-966027135489851019"
        },
        {
         "args": [
          "-966027135489851019"
         ],
         "function": "State.namespace\n",
         "id": "6426549145632812247"
        },
        {
         "args": [
          "6426549145632812247",
          "8126027657902826506"
         ],
         "function": "Mapping.__getitem__\n",
         "id": "3568240542435729275",
         "type_params": {
          "K": {
           "repr": "str"
          },
          "V": {
           "repr": "typing.Any"
          }
         }
        },
        {
         "args": [
          "-1908256844020580200",
          "-1650249544379989682",
          "-4439177644969519586"
         ],
         "function": "if_\n",
         "id": "3001823754280678665"
        },
        {
         "args": [
          "-824938096903300058",
          "3001823754280678665",
          "-949420366002552021",
          "-949420366002552021"
         ],
         "function": "State.replace\n",
         "id": "370426888385321733"
        },
        {
         "args": [
          "370426888385321733"
         ],
         "function": "State.namespace\n",
         "id": "8816292263335170393"
        },
        {
         "args": [
          "8816292263335170393",
          "8126027657902826506"
         ],
         "function": "Mapping.__getitem__\n",
         "id": "1632522116623120407",
         "type_params": {
          "K": {
           "repr": "str"
          },
          "V": {
           "repr": "typing.Any"
          }
         }
        },
        {
         "args": [
          "3001823754280678665",
          "8126027657902826506"
         ],
         "function": "Mapping.__getitem__\n",
         "id": "-4028754030474601792",
         "type_params": {
          "K": {
           "repr": "str"
          },
          "V": {
           "repr": "typing.Any"
          }
         }
        }
       ],
       "states": {
        "initial": "3568240542435729275",
        "states": [
         {
          "logs": "",
          "node": "1632522116623120407",
          "rule": "__main__.if_optimizations"
         },
         {
          "logs": "",
          "node": "-4028754030474601792",
          "rule": "metadsl_core.state.state_rules[5]"
         },
         {
          "label": "data structures",
          "logs": "",
          "node": "-4028754030474601792",
          "rule": "data structures"
         }
        ]
       }
      },
      "text/plain": [
       "Typez(definitions=None, nodes=[PrimitiveNode(id='5588165156287652350', type='int', repr='1'), CallNode(id='-824938096903300058', function='init_state\\n', type_params=None, args=None, kwargs=None), PrimitiveNode(id='-7587250769671343037', type='str', repr='cond'), PrimitiveNode(id='-8294602091862145234', type='str', repr='c'), PrimitiveNode(id='-7059664274030091654', type='int', repr='3'), CallNode(id='4702451177623270837', function='Mapping.create\\n', type_params=None, args=None, kwargs=None), PrimitiveNode(id='1081597251926427767', type='str', repr='d'), PrimitiveNode(id='8126027657902826506', type='str', repr='a'), PrimitiveNode(id='-7875468003596548032', type='int', repr='2'), PrimitiveNode(id='903956026342425513', type='str', repr='b'), PrimitiveNode(id='-949420366002552021', type='NoneType', repr='None'), PrimitiveNode(id='8005759971604257497', type='int', repr='6'), PrimitiveNode(id='3626853550258118895', type='int', repr='5'), CallNode(id='-3932112222624709724', function='State.namespace\\n', type_params=None, args=['-824938096903300058'], kwargs=None), CallNode(id='-8724686457043660276', function='Mapping.__getitem__\\n', type_params={'V': ExternalTypeInstance(repr='typing.Any'), 'K': ExternalTypeInstance(repr='str')}, args=['-3932112222624709724', '-7587250769671343037'], kwargs=None), CallNode(id='-8772678248384834395', function='Mapping.extend\\n', type_params={'V': ExternalTypeInstance(repr='typing.Any'), 'K': ExternalTypeInstance(repr='str')}, args=['-3932112222624709724', '4702451177623270837'], kwargs=None), CallNode(id='326844276405916152', function='Mapping.__getitem__\\n', type_params={'V': ExternalTypeInstance(repr='typing.Any'), 'K': ExternalTypeInstance(repr='str')}, args=['-3932112222624709724', '903956026342425513'], kwargs=None), CallNode(id='-1908256844020580200', function='line\\n', type_params=None, args=['5588165156287652350', '-8724686457043660276'], kwargs=None), CallNode(id='-8178859973744575717', function='Mapping.__getitem__\\n', type_params={'V': ExternalTypeInstance(repr='typing.Any'), 'K': ExternalTypeInstance(repr='str')}, args=['-8772678248384834395', '1081597251926427767'], kwargs=None), CallNode(id='9075745686522343073', function='line\\n', type_params=None, args=['-7875468003596548032', '326844276405916152'], kwargs=None), CallNode(id='-6616330445925921340', function='add\\n', type_params=None, args=['326844276405916152', '5588165156287652350'], kwargs=None), CallNode(id='-6835529499119124480', function='line\\n', type_params=None, args=['-7059664274030091654', '-8178859973744575717'], kwargs=None), CallNode(id='-3876288140693332114', function='line\\n', type_params=None, args=['8005759971604257497', '-8178859973744575717'], kwargs=None), CallNode(id='-380643203555027086', function='Pair.create\\n', type_params=None, args=['8126027657902826506', '9075745686522343073'], kwargs=None), CallNode(id='-8491401716835550191', function='line\\n', type_params=None, args=['3626853550258118895', '-6616330445925921340'], kwargs=None), CallNode(id='-7150156370520523466', function='Pair.create\\n', type_params=None, args=['-8294602091862145234', '-6835529499119124480'], kwargs=None), CallNode(id='-4918141815853940703', function='Pair.create\\n', type_params=None, args=['-8294602091862145234', '-3876288140693332114'], kwargs=None), CallNode(id='9202458239787578542', function='Pair.create\\n', type_params=None, args=['8126027657902826506', '-8491401716835550191'], kwargs=None), CallNode(id='-1650249544379989682', function='Mapping.create\\n', type_params=None, args=['-7150156370520523466', '-380643203555027086'], kwargs=None), CallNode(id='-4439177644969519586', function='Mapping.create\\n', type_params=None, args=['-4918141815853940703', '9202458239787578542'], kwargs=None), CallNode(id='-6122379694678013431', function='State.replace\\n', type_params=None, args=['-824938096903300058', '-1650249544379989682', '-949420366002552021', '-949420366002552021'], kwargs=None), CallNode(id='3672652877615160204', function='State.replace\\n', type_params=None, args=['-824938096903300058', '-4439177644969519586', '-949420366002552021', '-949420366002552021'], kwargs=None), CallNode(id='-966027135489851019', function='if_\\n', type_params=None, args=['-1908256844020580200', '-6122379694678013431', '3672652877615160204'], kwargs=None), CallNode(id='6426549145632812247', function='State.namespace\\n', type_params=None, args=['-966027135489851019'], kwargs=None), CallNode(id='3568240542435729275', function='Mapping.__getitem__\\n', type_params={'V': ExternalTypeInstance(repr='typing.Any'), 'K': ExternalTypeInstance(repr='str')}, args=['6426549145632812247', '8126027657902826506'], kwargs=None), CallNode(id='3001823754280678665', function='if_\\n', type_params=None, args=['-1908256844020580200', '-1650249544379989682', '-4439177644969519586'], kwargs=None), CallNode(id='370426888385321733', function='State.replace\\n', type_params=None, args=['-824938096903300058', '3001823754280678665', '-949420366002552021', '-949420366002552021'], kwargs=None), CallNode(id='8816292263335170393', function='State.namespace\\n', type_params=None, args=['370426888385321733'], kwargs=None), CallNode(id='1632522116623120407', function='Mapping.__getitem__\\n', type_params={'V': ExternalTypeInstance(repr='typing.Any'), 'K': ExternalTypeInstance(repr='str')}, args=['8816292263335170393', '8126027657902826506'], kwargs=None), CallNode(id='-4028754030474601792', function='Mapping.__getitem__\\n', type_params={'V': ExternalTypeInstance(repr='typing.Any'), 'K': ExternalTypeInstance(repr='str')}, args=['3001823754280678665', '8126027657902826506'], kwargs=None)], states=States(initial='3568240542435729275', states=[State(node='1632522116623120407', rule='__main__.if_optimizations', logs='', label=None), State(node='-4028754030474601792', rule='metadsl_core.state.state_rules[5]', logs='', label=None), State(node='-4028754030474601792', rule='data structures', logs='', label='data structures')]))"
      ]
     },
     "metadata": {},
     "output_type": "display_data"
    }
   ],
   "source": [
    "res = execute(res)"
   ]
  },
  {
   "cell_type": "code",
   "execution_count": 9,
   "id": "9861201e-3637-4e6f-a12a-931a03febd84",
   "metadata": {},
   "outputs": [
    {
     "data": {
      "text/plain": [
       "{1, 2, 3, 5, 6}"
      ]
     },
     "execution_count": 9,
     "metadata": {},
     "output_type": "execute_result"
    }
   ],
   "source": [
    "get_lines(res)"
   ]
  },
  {
   "cell_type": "markdown",
   "id": "39bc35e6-e1cd-4a0b-aad1-9b14673d69ac",
   "metadata": {},
   "source": []
  }
 ],
 "metadata": {
  "kernelspec": {
   "display_name": "Python 3 (ipykernel)",
   "language": "python",
   "name": "python3"
  },
  "language_info": {
   "codemirror_mode": {
    "name": "ipython",
    "version": 3
   },
   "file_extension": ".py",
   "mimetype": "text/x-python",
   "name": "python",
   "nbconvert_exporter": "python",
   "pygments_lexer": "ipython3",
   "version": "3.8.12"
  }
 },
 "nbformat": 4,
 "nbformat_minor": 5
}
